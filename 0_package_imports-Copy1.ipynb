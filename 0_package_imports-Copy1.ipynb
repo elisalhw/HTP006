{
 "cells": [
  {
   "cell_type": "code",
   "execution_count": 12,
   "metadata": {
    "ExecuteTime": {
     "end_time": "2020-02-03T15:38:07.591803Z",
     "start_time": "2020-02-03T15:38:07.551298Z"
    }
   },
   "outputs": [],
   "source": [
    "import os\n",
    "import re\n",
    "\n",
    "from Bio import Align\n",
    "\n",
    "import numpy as np\n",
    "import pandas as pd\n",
    "pd.set_option('display.max_rows', 500)\n",
    "\n",
    "from collections import Counter\n",
    "\n",
    "from fisher_tools.utils import highlight_differences\n"
   ]
  },
  {
   "cell_type": "code",
   "execution_count": 13,
   "metadata": {},
   "outputs": [],
   "source": [
    "def extract_capital(s):\n",
    "    return ''.join([c for c in s if c.isupper()])"
   ]
  },
  {
   "cell_type": "code",
   "execution_count": 14,
   "metadata": {},
   "outputs": [],
   "source": [
    "def find_barcode(sq, bc_context):\n",
    "    \n",
    "    bc_positions = [m.start() for m in re.finditer('N', bc_context)]\n",
    "    bc_context_5_prime = bc_context[:bc_positions[0]]\n",
    "    bc_context_3_prime = bc_context[bc_positions[-1]+1:]\n",
    "    \n",
    "    bc = ''\n",
    "    new_sq = ''\n",
    "    \n",
    "    if len(bc_context_5_prime) >= 4:\n",
    "        try:\n",
    "            context_end_ind = sq.index(bc_context_5_prime) + len(bc_context_5_prime)\n",
    "            bc = sq[context_end_ind : context_end_ind+len(bc_positions)]\n",
    "            new_sq = sq[context_end_ind+len(bc_positions):]\n",
    "        except ValueError:\n",
    "            pass\n",
    "        \n",
    "    if len(bc_context_3_prime) >= 4 and len(bc)==0:\n",
    "        try:\n",
    "            context_start_ind = sq.index(bc_context_3_prime)\n",
    "            bc = sq[context_start_ind-len(bc_positions) : context_start_ind]\n",
    "            new_sq = sq[context_start_ind:]\n",
    "        except ValueError:\n",
    "            pass\n",
    "    \n",
    "    return bc, new_sq"
   ]
  },
  {
   "cell_type": "code",
   "execution_count": 15,
   "metadata": {},
   "outputs": [],
   "source": [
    "def highlight_differences(seq: str, ref_seq: str) -> print:\n",
    "    if len(seq) != len(ref_seq):\n",
    "        aligner = Align.PairwiseAligner()\n",
    "        alignments = aligner.align(seq, ref_seq)\n",
    "        aligned_seq = str(alignments[0]).split('\\n')[0]\n",
    "        aligned_ref_seq = str(alignments[0]).split('\\n')[2]\n",
    "        print(''.join([x if x == aligned_ref_seq[i] else f'\\x1b[32m{x}\\x1b[0m' for i, x in enumerate(aligned_seq)]))\n",
    "    else:\n",
    "        print(''.join([x if x == ref_seq[i] else f'\\x1b[34m{x}\\x1b[0m' for i, x in enumerate(seq)]))"
   ]
  },
  {
   "cell_type": "code",
   "execution_count": 23,
   "metadata": {},
   "outputs": [],
   "source": [
    "DATA_LOCATION = '/Users/elisawong/Documents/Python/Exercises_Jan_2020/BC_demultiplex/'\n",
    "ANALYSIS_NAME = '13Feb2020'"
   ]
  },
  {
   "cell_type": "code",
   "execution_count": 21,
   "metadata": {},
   "outputs": [
    {
     "name": "stdout",
     "output_type": "stream",
     "text": [
      "0_package_imports-Copy1.ipynb\r\n",
      "\u001b[34m13Feb2020\u001b[m\u001b[m\r\n",
      "1_sample_barcode_demultiplexing_play_version.ipynb\r\n",
      "HTP0006_bc_vs_sq.csv\r\n",
      "miseq_g008_600_s326_lib53_htp0006_48candidates_1out2_merged_merged.fastq\r\n"
     ]
    }
   ],
   "source": [
    "! ls /Users/elisawong/Documents/Python/Exercises_Jan_2020/BC_demultiplex/"
   ]
  },
  {
   "cell_type": "code",
   "execution_count": 24,
   "metadata": {},
   "outputs": [
    {
     "data": {
      "text/plain": [
       "'/Users/elisawong/Documents/Python/Exercises_Jan_2020/BC_demultiplex/13Feb2020'"
      ]
     },
     "execution_count": 24,
     "metadata": {},
     "output_type": "execute_result"
    }
   ],
   "source": [
    "DATA_LOCATION + ANALYSIS_NAME"
   ]
  },
  {
   "cell_type": "code",
   "execution_count": null,
   "metadata": {},
   "outputs": [],
   "source": []
  }
 ],
 "metadata": {
  "kernelspec": {
   "display_name": "Python 3",
   "language": "python",
   "name": "python3"
  },
  "language_info": {
   "codemirror_mode": {
    "name": "ipython",
    "version": 3
   },
   "file_extension": ".py",
   "mimetype": "text/x-python",
   "name": "python",
   "nbconvert_exporter": "python",
   "pygments_lexer": "ipython3",
   "version": "3.7.3"
  },
  "toc": {
   "base_numbering": 1,
   "nav_menu": {},
   "number_sections": true,
   "sideBar": true,
   "skip_h1_title": false,
   "title_cell": "Table of Contents",
   "title_sidebar": "Contents",
   "toc_cell": false,
   "toc_position": {},
   "toc_section_display": true,
   "toc_window_display": false
  }
 },
 "nbformat": 4,
 "nbformat_minor": 2
}
